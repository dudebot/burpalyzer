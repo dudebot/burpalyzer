{
 "cells": [
  {
   "cell_type": "code",
   "execution_count": 13,
   "id": "grab-urls-dates",
   "metadata": {},
   "outputs": [],
   "source": [
    "import os\n",
    "\n",
    "channel = \"@StronnyCuttles\"\n",
    "os.mkdir(channel)\n",
    "channel_url = \"https://www.youtube.com/\"+channel\n",
    "os.system(f\"yt-dlp --get-id --skip-download {channel_url} > {channel}/videos.txt\") # errors out for upcoming videos. workaround is to use the CLI and pipe the output to a file\n"
   ]
  },
  {
   "cell_type": "code",
   "execution_count": 20,
   "id": "709c06b0",
   "metadata": {},
   "outputs": [
    {
     "data": {
      "text/plain": [
       "314"
      ]
     },
     "execution_count": 20,
     "metadata": {},
     "output_type": "execute_result"
    }
   ],
   "source": [
    "\n",
    "videos = []\n",
    "with open(f\"{channel}/videos.txt\", \"r\") as f:\n",
    "    for line in f:\n",
    "        if line.startswith(\"Error\"):\n",
    "            continue\n",
    "        videos.append(line.strip())\n",
    "\n",
    "len(videos)"
   ]
  },
  {
   "cell_type": "code",
   "execution_count": null,
   "id": "d5400436",
   "metadata": {},
   "outputs": [
    {
     "name": "stdout",
     "output_type": "stream",
     "text": [
      "                                                           \r"
     ]
    }
   ],
   "source": [
    "for video_id in videos:\n",
    "    video_url = f'https://www.youtube.com/watch?v={video_id}'\n",
    "    ydl_opts = {\n",
    "        'quiet': True,\n",
    "        'skip_download': True,\n",
    "        'writesubtitles': True,\n",
    "        'writeautomaticsub': True,\n",
    "        'subtitleslangs': ['live_chat', 'en'],\n",
    "        'outtmpl': f'{channel}/%(timestamp>%Y_%m_%d_%H_%M_%S)s-%(title)s-[%(id)s].%(ext)s'\n",
    "    }\n",
    "    with yt_dlp.YoutubeDL(ydl_opts) as ydl:\n",
    "        ydl.download([video_url])"
   ]
  },
  {
   "cell_type": "code",
   "execution_count": 47,
   "id": "7444dd76",
   "metadata": {},
   "outputs": [],
   "source": [
    "from datetime import datetime\n",
    "\n",
    "def parse_filename(filename):\n",
    "    \n",
    "    # Find the position of the last \"-[\" to extract the YouTube ID\n",
    "    id_start = filename.rfind(\"-[\")\n",
    "    if id_start == -1:\n",
    "        raise ValueError(\"Invalid format: '-[' not found.\")\n",
    "    youtube_id = filename[id_start+2:-len(\"].%(ext)s\")]\n",
    "    \n",
    "    # Extract the timestamp and title\n",
    "    timestamp_part, title = filename[:id_start].split('-', 1)\n",
    "    \n",
    "    # Parse the timestamp\n",
    "    timestamp = datetime.strptime(timestamp_part, \"%Y_%m_%d_%H_%M_%S\")\n",
    "    \n",
    "    return (\n",
    "        timestamp.year,\n",
    "        timestamp.month,\n",
    "        timestamp.day,\n",
    "        timestamp.hour,\n",
    "        timestamp.minute,\n",
    "        timestamp.second,\n",
    "        title,\n",
    "        youtube_id\n",
    "    )"
   ]
  },
  {
   "cell_type": "code",
   "execution_count": 48,
   "id": "bbf8e036",
   "metadata": {},
   "outputs": [
    {
     "data": {
      "text/plain": [
       "(2025,\n",
       " 1,\n",
       " 9,\n",
       " 14,\n",
       " 11,\n",
       " 31,\n",
       " 'Two Cute Girls Sniff You Out! (ASMR Sniffing and Cleaning) ft. @RebbiRompin',\n",
       " 'mTJ4XteFde')"
      ]
     },
     "execution_count": 48,
     "metadata": {},
     "output_type": "execute_result"
    }
   ],
   "source": [
    "parse_filename(\"2025_01_09_14_11_31-Two Cute Girls Sniff You Out! (ASMR Sniffing and Cleaning) ft. @RebbiRompin-[mTJ4XteFdeI].en.vtt\")"
   ]
  },
  {
   "cell_type": "code",
   "execution_count": 30,
   "id": "f98f58a2",
   "metadata": {},
   "outputs": [],
   "source": [
    "# move and transform chat scripts. we want to extract user, timestamp and message\n",
    "# chat scripts are in the format:\n",
    "#{\"clickTrackingParams\": \"CAEQl98BIhMI0Mqgo6G_iAMV-JzCAR2cWziB\", \"replayChatItemAction\": {\"actions\": [{\"clickTrackingParams\": \"CAEQl98BIhMI0Mqgo6G_iAMV-JzCAR2cWziB\", \"addChatItemAction\": {\"item\": {\"liveChatTextMessageRenderer\": {\"message\": {\"runs\": [{\"emoji\": {\"emojiId\": \"🩷\", \"shortcuts\": [\":pink_heart:\"], \"searchTerms\": [\"pink\", \"heart\"], \"image\": {\"thumbnails\": [{\"url\": \"https://fonts.gstatic.com/s/e/notoemoji/15.1/1fa77/72.png\"}], \"accessibility\": {\"accessibilityData\": {\"label\": \"🩷\"}}}}}, {\"emoji\": {\"emojiId\": \"🤍\", \"shortcuts\": [\":white_heart:\"], \"searchTerms\": [\"white\", \"heart\"], \"image\": {\"thumbnails\": [{\"url\": \"https://fonts.gstatic.com/s/e/notoemoji/15.1/1f90d/72.png\"}], \"accessibility\": {\"accessibilityData\": {\"label\": \"🤍\"}}}}}, {\"emoji\": {\"emojiId\": \"🤎\", \"shortcuts\": [\":brown_heart:\"], \"searchTerms\": [\"brown\", \"heart\"], \"image\": {\"thumbnails\": [{\"url\": \"https://fonts.gstatic.com/s/e/notoemoji/15.1/1f90e/72.png\"}], \"accessibility\": {\"accessibilityData\": {\"label\": \"🤎\"}}}}}, {\"emoji\": {\"emojiId\": \"❤\", \"shortcuts\": [\":red_heart:\", \":heart:\", \"<3\"], \"searchTerms\": [\"red\", \"heart\"], \"image\": {\"thumbnails\": [{\"url\": \"https://fonts.gstatic.com/s/e/notoemoji/15.1/2764/72.png\"}], \"accessibility\": {\"accessibilityData\": {\"label\": \"❤\"}}}}}]}, \"authorName\": {\"simpleText\": \"TappedPotential🐰👠\"}, \"authorPhoto\": {\"thumbnails\": [{\"url\": \"https://yt4.ggpht.com/mAj0LNN_j5Bv3kr0iTP6bNsE-BIwkoUXCqIOR1zahwcF7Q46xBzVp3JrCuBkwGhRRmO8_0YOlA=s32-c-k-c0x00ffffff-no-rj\", \"width\": 32, \"height\": 32}, {\"url\": \"https://yt4.ggpht.com/mAj0LNN_j5Bv3kr0iTP6bNsE-BIwkoUXCqIOR1zahwcF7Q46xBzVp3JrCuBkwGhRRmO8_0YOlA=s64-c-k-c0x00ffffff-no-rj\", \"width\": 64, \"height\": 64}]}, \"contextMenuEndpoint\": {\"clickTrackingParams\": \"CAEQl98BIhMI0Mqgo6G_iAMV-JzCAR2cWziB\", \"commandMetadata\": {\"webCommandMetadata\": {\"ignoreNavigation\": true}}, \"liveChatItemContextMenuEndpoint\": {\"params\": \"Q2g0S0hBb2FRMHRwV1RCMlRHWnlOR2RFUmxSclN6Rm5RV1JJVW1OSlFWRWFLU29uQ2hoVlEzWlplbmRGYTBOUk1qZG5VR0ZxTlRSM1FuTldUMmNTQzNSek5qaDFRelF0WTBrMElBRW9BVElhQ2hoVlF6bDBjVjlpYlVSbU9YYzVNblpFYm1ReWIwdzJNbWM0QWtnQlVBRSUzRA==\"}}, \"id\": \"ChwKGkNLaVkwdkxmcjRnREZUa0sxZ0FkSFJjSUFR\", \"timestampUsec\": \"1725674881850547\", \"authorBadges\": [{\"liveChatAuthorBadgeRenderer\": {\"customThumbnail\": {\"thumbnails\": [{\"url\": \"https://yt3.ggpht.com/LROENIDC2LQf2oAC1WcICEsPbihMHhp5APeKA9jks871KM4K8lrSQN_uoK85gmE3c8qmjFc96Q=s16-c-k\", \"width\": 16, \"height\": 16}, {\"url\": \"https://yt3.ggpht.com/LROENIDC2LQf2oAC1WcICEsPbihMHhp5APeKA9jks871KM4K8lrSQN_uoK85gmE3c8qmjFc96Q=s32-c-k\", \"width\": 32, \"height\": 32}]}, \"tooltip\": \"Member (2 months)\", \"accessibility\": {\"accessibilityData\": {\"label\": \"Member (2 months)\"}}}}], \"authorExternalChannelId\": \"UC9tq_bmDf9w92vDnd2oL62g\", \"contextMenuAccessibility\": {\"accessibilityData\": {\"label\": \"Chat actions\"}}, \"timestampText\": {\"simpleText\": \"-8:48\"}, \"trackingParams\": \"CAEQl98BIhMI0Mqgo6G_iAMV-JzCAR2cWziB\"}}, \"clientId\": \"CKiY0vLfr4gDFTkK1gAdHRcIAQ\"}}], \"videoOffsetTimeMsec\": \"0\"}}\n",
    "#show debug if:\n",
    "# has more than 1 action\n",
    "# has more than 1 run\n",
    "# doesn't have user\n",
    "# videoOffsetTimeMsec is lower than 0 or bigger than 7200000 (max 12 hours)\n",
    "# doesn't have message\n",
    "files = os.listdir(f\"{channel}\")\n",
    "chat_files = [i for i in files if i.endswith(\"live_chat.json\")]\n",
    "if not os.path.exists(os.path.join(channel, \"chats\")):\n",
    "    os.mkdir(os.path.join(channel, \"chats\"))\n",
    "#print(chat_files)\n",
    "for chat_file in chat_files:\n",
    "    all_timestamps = []\n",
    "    window_size_seconds = 60\n",
    "    \n",
    "    with open(os.path.join(channel, chat_file), 'r', encoding='utf-8') as file, open(os.path.join(channel, \"chats\", f\"{chat_file[:-15]}.txt\"), 'w', encoding='utf-8') as output_file:\n",
    "        #try:\n",
    "            for line in file:\n",
    "                line = line.strip()\n",
    "                try:\n",
    "                    json_data = json.loads(line)\n",
    "                except json.JSONDecodeError:\n",
    "                    print(f\"Invalid JSON: {line}\")\n",
    "                    continue\n",
    "\n",
    "                # Extract timestamp\n",
    "                replay_action = json_data.get('replayChatItemAction')\n",
    "                if not replay_action:\n",
    "                    print(f\"No replayChatItemAction: {line}\")\n",
    "                    continue\n",
    "\n",
    "                video_offset_time_msec = replay_action.get('videoOffsetTimeMsec')\n",
    "                if not video_offset_time_msec:\n",
    "                    print(f\"No videoOffsetTimeMsec: {line}\")\n",
    "                    continue\n",
    "\n",
    "                try:\n",
    "                    timestamp_ms = int(video_offset_time_msec)\n",
    "                except ValueError:\n",
    "                    print(f\"Invalid videoOffsetTimeMsec value: {line}\")\n",
    "                    continue\n",
    "\n",
    "                # Validate timestamp\n",
    "                if timestamp_ms < 0 or timestamp_ms > 43200000:\n",
    "                    print(f\"Invalid timestamp: {line}\")\n",
    "                    continue\n",
    "\n",
    "                # Process each action\n",
    "                actions = replay_action.get('actions', [])\n",
    "                for action in actions:\n",
    "                    add_chat_item_action = action.get('addChatItemAction')\n",
    "                    if not add_chat_item_action:\n",
    "                        continue\n",
    "\n",
    "                    item = add_chat_item_action.get('item', {})\n",
    "                    live_chat_renderer = item.get('liveChatTextMessageRenderer')\n",
    "                    if not live_chat_renderer:\n",
    "                        continue\n",
    "\n",
    "                    # Extract user\n",
    "                    author_name = live_chat_renderer.get('authorName', {})\n",
    "                    user = author_name.get('simpleText', '')\n",
    "                    if not user:\n",
    "                        user = live_chat_renderer['authorExternalChannelId']\n",
    "                    # if not user:\n",
    "                    #     print(f\"Invalid user: {line}\")\n",
    "                    #     continue\n",
    "\n",
    "                    # Extract message\n",
    "                    message = ''\n",
    "                    message_runs = live_chat_renderer.get('message', {}).get('runs', [])\n",
    "                    for run in message_runs:\n",
    "                        text = run.get('text')\n",
    "                        if text:\n",
    "                            message += text\n",
    "                        else:\n",
    "                            emoji = run.get('emoji', {})\n",
    "                            shortcuts = emoji.get('shortcuts', [])\n",
    "                            if len(shortcuts) > 0:\n",
    "                                emoji_id = shortcuts[0]\n",
    "                            else:\n",
    "                                emoji_id = emoji.get('emojiId', '') # This is the actual emoji. sometimes with claps, it doesn't have shortcuts\n",
    "                                if not emoji_id:\n",
    "                                    print(f\"whack issue with emoji for line: {line}\")\n",
    "                            \n",
    "                            message += emoji_id\n",
    "\n",
    "                    if not message:\n",
    "                        print(f\"Invalid message: {line}\")\n",
    "                        continue\n",
    "                    \n",
    "                    message = message.replace(\"\\n\", \" \").replace(\"\\t\", \" \")\n",
    "                    # Process the extracted data (e.g., print or write to a file)\n",
    "                    output_file.write(f\"{user}\\t{timestamp_ms}\\t{message}\\n\")\n",
    "\n",
    "        # except Exception as e:\n",
    "        #     print(f\"Unknown error: {e}\")\n",
    "            \n",
    "    # remove chat file\n",
    "    #os.remove(os.path.join(channel, \"downloaded\", chat_file))\n",
    "\n",
    "        "
   ]
  },
  {
   "cell_type": "code",
   "execution_count": null,
   "id": "download-chat-transcripts",
   "metadata": {},
   "outputs": [],
   "source": [
    "import os\n",
    "\n",
    "chat_transcripts = {}\n",
    "\n",
    "for video in videos:\n",
    "    video_url = video['url']\n",
    "    video_id = video_url.split('=')[-1]\n",
    "    chat_file = f'{video_id}.json'\n",
    "\n",
    "    ydl_opts = {\n",
    "        'quiet': True,\n",
    "        'skip_download': True,\n",
    "        'writesubtitles': True,\n",
    "        'subtitlesformat': 'json3',\n",
    "        'subtitleslangs': ['live_chat'],\n",
    "        'outtmpl': chat_file\n",
    "    }\n",
    "\n",
    "    with yt_dlp.YoutubeDL(ydl_opts) as ydl:\n",
    "        ydl.download([video_url])\n",
    "\n",
    "    if os.path.exists(chat_file):\n",
    "        with open(chat_file, 'r', encoding='utf-8') as f:\n",
    "            chat_transcripts[video_id] = json.load(f)\n",
    "\n",
    "print(chat_transcripts)\n"
   ]
  },
  {
   "cell_type": "code",
   "execution_count": null,
   "id": "scan-chat-transcripts",
   "metadata": {},
   "outputs": [],
   "source": [
    "burp_patterns = re.compile(r'\\b(10/10|8/10|11/10)\\b')\n",
    "\n",
    "burp_timestamps = {}\n",
    "\n",
    "for video_id, transcript in chat_transcripts.items():\n",
    "    burp_timestamps[video_id] = []\n",
    "    for event in transcript['events']:\n",
    "        if 'replayChatItemAction' in event:\n",
    "            message = event['replayChatItemAction']['actions'][0]['addChatItemAction']['item']['liveChatTextMessageRenderer']['message']['runs'][0]['text']\n",
    "            if burp_patterns.search(message):\n",
    "                timestamp = event['replayChatItemAction']['videoOffsetTimeMsec']\n",
    "                burp_timestamps[video_id].append(timestamp)\n",
    "\n",
    "print(burp_timestamps)\n"
   ]
  },
  {
   "cell_type": "code",
   "execution_count": null,
   "id": "test-optimal-regex",
   "metadata": {},
   "outputs": [],
   "source": [
    "def detect_burps(timestamps, threshold=2, interval=10):\n",
    "    detected_burps = []\n",
    "    for i in range(len(timestamps)):\n",
    "        count = 1\n",
    "        for j in range(i + 1, len(timestamps)):\n",
    "            if (timestamps[j] - timestamps[i]) <= interval * 1000:\n",
    "                count += 1\n",
    "            else:\n",
    "                break\n",
    "        if count >= threshold:\n",
    "            detected_burps.append(timestamps[i])\n",
    "    return detected_burps\n",
    "\n",
    "for video_id, timestamps in burp_timestamps.items():\n",
    "    burp_timestamps[video_id] = detect_burps(timestamps)\n",
    "\n",
    "print(burp_timestamps)\n"
   ]
  },
  {
   "cell_type": "code",
   "execution_count": null,
   "id": "clickable-timestamp-url",
   "metadata": {},
   "outputs": [],
   "source": [
    "clickable_urls = {}\n",
    "\n",
    "for video in videos:\n",
    "    video_id = video['url'].split('=')[-1]\n",
    "    clickable_urls[video_id] = []\n",
    "    for timestamp in burp_timestamps[video_id]:\n",
    "        clickable_url = f'https://www.youtube.com/watch?v={video_id}&t={int(timestamp / 1000)}s'\n",
    "        clickable_urls[video_id].append(clickable_url)\n",
    "\n",
    "print(clickable_urls)\n"
   ]
  },
  {
   "cell_type": "code",
   "execution_count": null,
   "id": "save-timestamps-json",
   "metadata": {},
   "outputs": [],
   "source": [
    "with open('burp_timestamps.json', 'w', encoding='utf-8') as f:\n",
    "    json.dump(clickable_urls, f, indent=4)\n",
    "\n",
    "print('Timestamps saved to burp_timestamps.json')\n"
   ]
  }
 ],
 "metadata": {
  "kernelspec": {
   "display_name": "Python 3",
   "language": "python",
   "name": "python3"
  },
  "language_info": {
   "codemirror_mode": {
    "name": "ipython",
    "version": 3
   },
   "file_extension": ".py",
   "mimetype": "text/x-python",
   "name": "python",
   "nbconvert_exporter": "python",
   "pygments_lexer": "ipython3",
   "version": "3.11.9"
  }
 },
 "nbformat": 4,
 "nbformat_minor": 5
}
