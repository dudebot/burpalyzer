{
 "cells": [
  {
   "cell_type": "code",
   "execution_count": null,
   "id": "grab-urls-dates",
   "metadata": {},
   "outputs": [],
   "source": [
    "import yt_dlp\n",
    "import json\n",
    "import re\n",
    "from datetime import datetime, timedelta\n",
    "\n",
    "channel_url = 'YOUR_CHANNEL_URL_HERE'\n",
    "\n",
    "ydl_opts = {\n",
    "    'quiet': True,\n",
    "    'extract_flat': 'in_playlist',\n",
    "    'skip_download': True,\n",
    "    'force_generic_extractor': True\n",
    "}\n",
    "\n",
    "with yt_dlp.YoutubeDL(ydl_opts) as ydl:\n",
    "    result = ydl.extract_info(channel_url, download=False)\n",
    "\n",
    "videos = []\n",
    "for entry in result['entries']:\n",
    "    video = {\n",
    "        'url': entry['url'],\n",
    "        'title': entry['title'],\n",
    "        'upload_date': entry['upload_date']\n",
    "    }\n",
    "    videos.append(video)\n",
    "\n",
    "print(json.dumps(videos, indent=4))\n"
   ]
  },
  {
   "cell_type": "code",
   "execution_count": null,
   "id": "download-chat-transcripts",
   "metadata": {},
   "outputs": [],
   "source": [
    "import os\n",
    "\n",
    "chat_transcripts = {}\n",
    "\n",
    "for video in videos:\n",
    "    video_url = video['url']\n",
    "    video_id = video_url.split('=')[-1]\n",
    "    chat_file = f'{video_id}.json'\n",
    "\n",
    "    ydl_opts = {\n",
    "        'quiet': True,\n",
    "        'skip_download': True,\n",
    "        'writesubtitles': True,\n",
    "        'subtitlesformat': 'json3',\n",
    "        'subtitleslangs': ['live_chat'],\n",
    "        'outtmpl': chat_file\n",
    "    }\n",
    "\n",
    "    with yt_dlp.YoutubeDL(ydl_opts) as ydl:\n",
    "        ydl.download([video_url])\n",
    "\n",
    "    if os.path.exists(chat_file):\n",
    "        with open(chat_file, 'r', encoding='utf-8') as f:\n",
    "            chat_transcripts[video_id] = json.load(f)\n",
    "\n",
    "print(chat_transcripts)\n"
   ]
  },
  {
   "cell_type": "code",
   "execution_count": null,
   "id": "scan-chat-transcripts",
   "metadata": {},
   "outputs": [],
   "source": [
    "burp_patterns = re.compile(r'\\b(10/10|8/10|11/10)\\b')\n",
    "\n",
    "burp_timestamps = {}\n",
    "\n",
    "for video_id, transcript in chat_transcripts.items():\n",
    "    burp_timestamps[video_id] = []\n",
    "    for event in transcript['events']:\n",
    "        if 'replayChatItemAction' in event:\n",
    "            message = event['replayChatItemAction']['actions'][0]['addChatItemAction']['item']['liveChatTextMessageRenderer']['message']['runs'][0]['text']\n",
    "            if burp_patterns.search(message):\n",
    "                timestamp = event['replayChatItemAction']['videoOffsetTimeMsec']\n",
    "                burp_timestamps[video_id].append(timestamp)\n",
    "\n",
    "print(burp_timestamps)\n"
   ]
  },
  {
   "cell_type": "code",
   "execution_count": null,
   "id": "test-optimal-regex",
   "metadata": {},
   "outputs": [],
   "source": [
    "def detect_burps(timestamps, threshold=2, interval=10):\n",
    "    detected_burps = []\n",
    "    for i in range(len(timestamps)):\n",
    "        count = 1\n",
    "        for j in range(i + 1, len(timestamps)):\n",
    "            if (timestamps[j] - timestamps[i]) <= interval * 1000:\n",
    "                count += 1\n",
    "            else:\n",
    "                break\n",
    "        if count >= threshold:\n",
    "            detected_burps.append(timestamps[i])\n",
    "    return detected_burps\n",
    "\n",
    "for video_id, timestamps in burp_timestamps.items():\n",
    "    burp_timestamps[video_id] = detect_burps(timestamps)\n",
    "\n",
    "print(burp_timestamps)\n"
   ]
  },
  {
   "cell_type": "code",
   "execution_count": null,
   "id": "clickable-timestamp-url",
   "metadata": {},
   "outputs": [],
   "source": [
    "clickable_urls = {}\n",
    "\n",
    "for video in videos:\n",
    "    video_id = video['url'].split('=')[-1]\n",
    "    clickable_urls[video_id] = []\n",
    "    for timestamp in burp_timestamps[video_id]:\n",
    "        clickable_url = f'https://www.youtube.com/watch?v={video_id}&t={int(timestamp / 1000)}s'\n",
    "        clickable_urls[video_id].append(clickable_url)\n",
    "\n",
    "print(clickable_urls)\n"
   ]
  },
  {
   "cell_type": "code",
   "execution_count": null,
   "id": "save-timestamps-json",
   "metadata": {},
   "outputs": [],
   "source": [
    "with open('burp_timestamps.json', 'w', encoding='utf-8') as f:\n",
    "    json.dump(clickable_urls, f, indent=4)\n",
    "\n",
    "print('Timestamps saved to burp_timestamps.json')\n"
   ]
  }
 ],
 "metadata": {
  "kernelspec": {
   "display_name": "Python 3",
   "language": "python",
   "name": "python3"
  },
  "language_info": {
   "codemirror_mode": {
    "name": "ipython",
    "version": 3
   },
   "file_extension": ".py",
   "mimetype": "text/x-python",
   "name": "python",
   "nbconvert_exporter": "python",
   "pygments_lexer": "ipython3",
   "version": "3.8.5"
  }
 },
 "nbformat": 4,
 "nbformat_minor": 5
}
